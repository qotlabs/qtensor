{
 "cells": [
  {
   "cell_type": "code",
   "execution_count": 4,
   "id": "230bab3f",
   "metadata": {},
   "outputs": [],
   "source": [
    "from qtensor import Info, State, MPS, Circuit, Gates\n",
    "\n",
    "N = 15\n",
    "D = 10\n",
    "\n",
    "info = Info()\n",
    "\n",
    "state = State(info)\n",
    "state.all_zeros_state(N)\n",
    "\n",
    "mps = MPS(info)\n",
    "mps.all_zeros_state(N)\n",
    "print('Norma = ', mps.get_norm())\n",
    "gates = Gates(info)\n",
    "circuit = Circuit(gates)"
   ]
  },
  {
   "cell_type": "code",
   "execution_count": 8,
   "id": "a8c001d1",
   "metadata": {},
   "outputs": [],
   "source": [
    "n = 5;"
   ]
  },
  {
   "cell_type": "code",
   "execution_count": 9,
   "id": "ee507416",
   "metadata": {},
   "outputs": [],
   "source": [
    "new = MPS(Info())"
   ]
  },
  {
   "cell_type": "code",
   "execution_count": 10,
   "id": "fe1620d6",
   "metadata": {},
   "outputs": [],
   "source": [
    "new.all_zeros_state(n)"
   ]
  },
  {
   "cell_type": "code",
   "execution_count": 12,
   "id": "f533507a",
   "metadata": {},
   "outputs": [
    {
     "name": "stdout",
     "output_type": "stream",
     "text": [
      "<_mps.MPS object at 0x7fa9cb2dff10>\n"
     ]
    }
   ],
   "source": [
    "print(new)"
   ]
  },
  {
   "cell_type": "code",
   "execution_count": null,
   "id": "0d66dd0c",
   "metadata": {},
   "outputs": [],
   "source": []
  }
 ],
 "metadata": {
  "kernelspec": {
   "display_name": "Python 3 (ipykernel)",
   "language": "python",
   "name": "python3"
  },
  "language_info": {
   "codemirror_mode": {
    "name": "ipython",
    "version": 3
   },
   "file_extension": ".py",
   "mimetype": "text/x-python",
   "name": "python",
   "nbconvert_exporter": "python",
   "pygments_lexer": "ipython3",
   "version": "3.9.5"
  }
 },
 "nbformat": 4,
 "nbformat_minor": 5
}
