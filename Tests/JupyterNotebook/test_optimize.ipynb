{
 "cells": [
  {
   "cell_type": "code",
   "execution_count": null,
   "id": "0d2f3e78",
   "metadata": {},
   "outputs": [],
   "source": [
    "from qtensor import Info, MPS #, Gates, CircuitCXFid\n",
    "import torch\n",
    "import numpy as np\n",
    "import matplotlib.pyplot as plt\n",
    "import time\n",
    "from torch import optim\n",
    "\n",
    "N = 5\n",
    "\n",
    "info = Info()"
   ]
  },
  {
   "cell_type": "markdown",
   "id": "ebdb6975",
   "metadata": {},
   "source": [
    "# Тест для генерации E"
   ]
  },
  {
   "cell_type": "code",
   "execution_count": null,
   "id": "23f50578",
   "metadata": {},
   "outputs": [],
   "source": [
    "from qtensor import MPO\n",
    "\n",
    "mps = MPS(info)\n",
    "mps.get_random_mps(N, 1)\n",
    "mpo = MPO(info)\n",
    "mpo.pure_state(mps)"
   ]
  },
  {
   "cell_type": "markdown",
   "id": "f03796d3",
   "metadata": {},
   "source": [
    "### проверка совпадение"
   ]
  },
  {
   "cell_type": "code",
   "execution_count": null,
   "id": "54206aa5",
   "metadata": {},
   "outputs": [],
   "source": [
    "\n",
    "indices = []\n",
    "def gen(pref):\n",
    "    if len(pref) == N:\n",
    "        global indices\n",
    "        indices.append(pref)\n",
    "        return\n",
    "    for i in range(2):\n",
    "        gen(pref + [i])\n",
    "        \n",
    "gen([])\n",
    "for i1 in indices:\n",
    "    for i2 in indices:\n",
    "        val1 = mps.get_element(i1)\n",
    "        val2 = mps.get_element(i2)\n",
    "        corr = torch.conj(val1) * val2\n",
    "        our = mpo.get_element(i1, i2)\n",
    "        diff = torch.abs(corr - our)\n",
    "        assert diff.item() < 1e-12"
   ]
  },
  {
   "cell_type": "markdown",
   "id": "8ba95b6b",
   "metadata": {},
   "source": [
    "### проверка trace"
   ]
  },
  {
   "cell_type": "code",
   "execution_count": null,
   "id": "50f7a182",
   "metadata": {},
   "outputs": [],
   "source": [
    "mpo.get_trace()"
   ]
  },
  {
   "cell_type": "markdown",
   "id": "fe4ff6f6",
   "metadata": {},
   "source": [
    "# Произведение"
   ]
  },
  {
   "cell_type": "code",
   "execution_count": null,
   "id": "0b361032",
   "metadata": {},
   "outputs": [],
   "source": [
    "\n",
    "def gen_E():\n",
    "    info = Info()\n",
    "    mps = MPS(info)\n",
    "    \n",
    "    mps.get_random_mps(N, 2)\n",
    "\n",
    "    mpo = MPO(info)\n",
    "    mpo.all_zeros_state(N)\n",
    "    mpo.pure_state(mps)\n",
    "    return mpo\n",
    "\n",
    "mpo1 = gen_E()\n",
    "mpo2 = gen_E()\n",
    "A1 = mpo1.get_full_matrix()\n",
    "A2 = mpo2.get_full_matrix()\n",
    "B = mpo1.get_product(mpo2).get_full_matrix()\n",
    "assert torch.sum(torch.abs((A1 @ A2) - B)) < 1e-12"
   ]
  },
  {
   "cell_type": "markdown",
   "id": "73da411b",
   "metadata": {},
   "source": [
    "# Генерация случайной MPO"
   ]
  },
  {
   "cell_type": "code",
   "execution_count": null,
   "id": "fba4ae11",
   "metadata": {},
   "outputs": [],
   "source": [
    "mpo = MPO(info)\n",
    "\n",
    "mpo.random_full(N, 2)"
   ]
  },
  {
   "cell_type": "code",
   "execution_count": null,
   "id": "3f400bed",
   "metadata": {},
   "outputs": [],
   "source": [
    "mpo.get_trace()"
   ]
  },
  {
   "cell_type": "code",
   "execution_count": null,
   "id": "439e98db",
   "metadata": {},
   "outputs": [],
   "source": [
    "mpo.r"
   ]
  },
  {
   "cell_type": "code",
   "execution_count": null,
   "id": "4bb403e0",
   "metadata": {},
   "outputs": [],
   "source": [
    "A = mpo.get_full_matrix()\n",
    "print(A.trace())"
   ]
  },
  {
   "cell_type": "code",
   "execution_count": null,
   "id": "0edf55be",
   "metadata": {},
   "outputs": [],
   "source": [
    "mpo_T = mpo.transpose()\n",
    "AT = mpo_T.get_full_matrix()\n",
    "\n",
    "assert torch.sum(torch.abs(A.T - AT)) < 1e-12"
   ]
  },
  {
   "cell_type": "markdown",
   "id": "180bebb0",
   "metadata": {},
   "source": [
    "# Генерация случайной положительно определенной rho"
   ]
  },
  {
   "cell_type": "code",
   "execution_count": null,
   "id": "94993bd0",
   "metadata": {},
   "outputs": [],
   "source": [
    "mpo = MPO(info)\n",
    "mpo.random_rho(N, 2)"
   ]
  },
  {
   "cell_type": "code",
   "execution_count": null,
   "id": "62280c82",
   "metadata": {},
   "outputs": [],
   "source": [
    "mpo.get_trace()"
   ]
  },
  {
   "cell_type": "code",
   "execution_count": null,
   "id": "e1f9dbff",
   "metadata": {},
   "outputs": [],
   "source": [
    "mpo.r"
   ]
  },
  {
   "cell_type": "code",
   "execution_count": null,
   "id": "0ac695f2",
   "metadata": {},
   "outputs": [],
   "source": [
    "mpo1 = MPO(info)\n",
    "mpo1.random_rho(N, 2)\n",
    "mpo2 = MPO(info)\n",
    "mpo2.random_rho(N, 2)\n",
    "A1 = mpo1.get_full_matrix()\n",
    "A2 = mpo2.get_full_matrix()\n",
    "B = mpo1.get_product(mpo2).get_full_matrix()\n",
    "assert torch.sum(torch.abs((A1 @ A2) - B)) < 1e-12"
   ]
  },
  {
   "cell_type": "markdown",
   "id": "82bbff9c",
   "metadata": {},
   "source": [
    "## Проверка get_product_trace"
   ]
  },
  {
   "cell_type": "code",
   "execution_count": null,
   "id": "59948e78",
   "metadata": {},
   "outputs": [],
   "source": [
    "E = gen_E()\n",
    "rho = MPO(info)\n",
    "rho.random_rho(N, 5);\n"
   ]
  },
  {
   "cell_type": "code",
   "execution_count": null,
   "id": "80302ad0",
   "metadata": {},
   "outputs": [],
   "source": [
    "a = rho.get_product(E)"
   ]
  },
  {
   "cell_type": "code",
   "execution_count": null,
   "id": "1dfc00c7",
   "metadata": {},
   "outputs": [],
   "source": [
    "a.get_trace()"
   ]
  },
  {
   "cell_type": "code",
   "execution_count": null,
   "id": "91327018",
   "metadata": {},
   "outputs": [],
   "source": [
    "rho.get_product_trace(E)"
   ]
  },
  {
   "cell_type": "markdown",
   "id": "c82775c2",
   "metadata": {},
   "source": [
    "## Оптимизация"
   ]
  },
  {
   "cell_type": "code",
   "execution_count": null,
   "id": "328556cd",
   "metadata": {},
   "outputs": [],
   "source": [
    "import time\n",
    "\n",
    "def optimize(list_E: list, values: list, N: int, R: int, eps: float):\n",
    "    rho = MPO(info)\n",
    "    rho.random_rho(N, R)\n",
    "    [ x.requires_grad_(True) for x in rho.tt_cores]\n",
    "    optimizer = optim.Adam(rho.tt_cores)\n",
    "    it = 0\n",
    "    f = torch.tensor(0 + 0.j, device=info.device)\n",
    "    f_prev = 1.0\n",
    "    k = 0\n",
    "    while(abs(f.item()) > eps or it == 0):\n",
    "        t1 = time.time()\n",
    "        optimizer.zero_grad()\n",
    "        f = torch.tensor(0 + 0.j, device=info.device)\n",
    "        for n, E in enumerate(list_E):\n",
    "            z = (rho.get_product_trace(E) - values[n])\n",
    "            f += torch.conj(z) * z\n",
    "            #f += torch.abs(z)\n",
    "        f = f / len(values)\n",
    "\n",
    "        t2 = time.time()\n",
    "        \n",
    "        f.backward()\n",
    "        optimizer.step()\n",
    "        \n",
    "        t3 = time.time()\n",
    "\n",
    "        print(f'\\rIteration {it}: MSE={f.item()}, t_calc={t2-t1}, t_backward={t3-t2}', end = '')\n",
    "\n",
    "        k = k + 1 if f.item() == f_prev else 0\n",
    "        f_prev = f.item()\n",
    "        it += 1\n",
    "        if (k == 20):\n",
    "            break\n",
    "    return rho"
   ]
  },
  {
   "cell_type": "code",
   "execution_count": null,
   "id": "09449288",
   "metadata": {},
   "outputs": [],
   "source": [
    "list_E = [gen_E() for i in range(1000)]\n",
    "rho_ideal = MPO(info)\n",
    "rho_ideal.random_rho(N, 1)\n",
    "values = [rho_ideal.get_product_trace(E) for E in list_E]"
   ]
  },
  {
   "cell_type": "code",
   "execution_count": null,
   "id": "a1f06d39",
   "metadata": {
    "scrolled": true
   },
   "outputs": [],
   "source": [
    "rho = optimize(list_E, values, N, 1, 1e-8)"
   ]
  },
  {
   "cell_type": "code",
   "execution_count": null,
   "id": "c0cd08b7",
   "metadata": {},
   "outputs": [],
   "source": [
    "with torch.no_grad():\n",
    "    f_prov = torch.tensor(0 + 0.j, device=info.device)\n",
    "    for i in range(10000):\n",
    "        E_prov = gen_E()\n",
    "        z = rho.get_product_trace(E_prov) - rho_ideal.get_product_trace(E_prov)\n",
    "        f_prov += torch.conj(z) * z\n",
    "    f_prov /= 10000\n",
    "    print(f_prov)  "
   ]
  },
  {
   "cell_type": "code",
   "execution_count": null,
   "id": "9b79c001",
   "metadata": {},
   "outputs": [],
   "source": [
    "E = gen_E()\n",
    "torch.abs(rho.get_product_trace(E) - rho_ideal.get_product_trace(E)) ** 2"
   ]
  },
  {
   "cell_type": "code",
   "execution_count": null,
   "id": "b9bb2a6b",
   "metadata": {},
   "outputs": [],
   "source": [
    "rho.r"
   ]
  },
  {
   "cell_type": "code",
   "execution_count": null,
   "id": "97a8cac3",
   "metadata": {},
   "outputs": [],
   "source": [
    "rho_ideal.r"
   ]
  },
  {
   "cell_type": "code",
   "execution_count": null,
   "id": "0e4b3537",
   "metadata": {},
   "outputs": [],
   "source": [
    "f_prov"
   ]
  },
  {
   "cell_type": "code",
   "execution_count": null,
   "id": "42c60456",
   "metadata": {},
   "outputs": [],
   "source": [
    "rho.get_trace()"
   ]
  },
  {
   "cell_type": "code",
   "execution_count": null,
   "id": "1c788099",
   "metadata": {},
   "outputs": [],
   "source": [
    "np.mean(np.array(values))"
   ]
  },
  {
   "cell_type": "code",
   "execution_count": null,
   "id": "7ed7769c",
   "metadata": {},
   "outputs": [],
   "source": []
  }
 ],
 "metadata": {
  "kernelspec": {
   "display_name": "Python 3 (ipykernel)",
   "language": "python",
   "name": "python3"
  },
  "language_info": {
   "codemirror_mode": {
    "name": "ipython",
    "version": 3
   },
   "file_extension": ".py",
   "mimetype": "text/x-python",
   "name": "python",
   "nbconvert_exporter": "python",
   "pygments_lexer": "ipython3",
   "version": "3.9.5"
  }
 },
 "nbformat": 4,
 "nbformat_minor": 5
}
