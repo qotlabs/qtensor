{
 "cells": [
  {
   "cell_type": "code",
   "execution_count": 1,
   "id": "0d2f3e78",
   "metadata": {},
   "outputs": [],
   "source": [
    "from qtensor import Info, MPS #, Gates, CircuitCXFid\n",
    "import torch\n",
    "import numpy as np\n",
    "import matplotlib.pyplot as plt\n",
    "import time\n",
    "\n",
    "N = 5\n",
    "\n",
    "info = Info()"
   ]
  },
  {
   "cell_type": "markdown",
   "id": "ebdb6975",
   "metadata": {},
   "source": [
    "# Тест для генерации E"
   ]
  },
  {
   "cell_type": "code",
   "execution_count": 2,
   "id": "23f50578",
   "metadata": {},
   "outputs": [],
   "source": [
    "from qtensor import MPO\n",
    "\n",
    "mps = MPS(info)\n",
    "mps.get_random_mps(N, 1)\n",
    "mpo = MPO(info)\n",
    "mpo.pure_state(mps)"
   ]
  },
  {
   "cell_type": "markdown",
   "id": "f03796d3",
   "metadata": {},
   "source": [
    "### проверка совпадение"
   ]
  },
  {
   "cell_type": "code",
   "execution_count": 3,
   "id": "54206aa5",
   "metadata": {},
   "outputs": [],
   "source": [
    "\n",
    "indices = []\n",
    "def gen(pref):\n",
    "    if len(pref) == N:\n",
    "        global indices\n",
    "        indices.append(pref)\n",
    "        return\n",
    "    for i in range(2):\n",
    "        gen(pref + [i])\n",
    "        \n",
    "gen([])\n",
    "for i1 in indices:\n",
    "    for i2 in indices:\n",
    "        val1 = mps.get_element(i1)\n",
    "        val2 = mps.get_element(i2)\n",
    "        corr = torch.conj(val1) * val2\n",
    "        our = mpo.get_element(i1, i2)\n",
    "        diff = torch.abs(corr - our)\n",
    "        assert diff.item() < 1e-12"
   ]
  },
  {
   "cell_type": "markdown",
   "id": "8ba95b6b",
   "metadata": {},
   "source": [
    "### проверка trace"
   ]
  },
  {
   "cell_type": "code",
   "execution_count": 4,
   "id": "50f7a182",
   "metadata": {},
   "outputs": [
    {
     "data": {
      "text/plain": [
       "tensor(1.+0.j, dtype=torch.complex128)"
      ]
     },
     "execution_count": 4,
     "metadata": {},
     "output_type": "execute_result"
    }
   ],
   "source": [
    "mpo.get_trace()"
   ]
  },
  {
   "cell_type": "markdown",
   "id": "fe4ff6f6",
   "metadata": {},
   "source": [
    "# Произведение"
   ]
  },
  {
   "cell_type": "code",
   "execution_count": 5,
   "id": "0b361032",
   "metadata": {},
   "outputs": [],
   "source": [
    "\n",
    "def gen_E():\n",
    "    info = Info()\n",
    "    mps = MPS(info)\n",
    "    \n",
    "    mps.get_random_mps(N, 2)\n",
    "\n",
    "    mpo = MPO(info)\n",
    "    mpo.all_zeros_state(N)\n",
    "    mpo.pure_state(mps)\n",
    "    return mpo\n",
    "\n",
    "mpo1 = gen_E()\n",
    "mpo2 = gen_E()\n",
    "A1 = mpo1.get_full_matrix()\n",
    "A2 = mpo2.get_full_matrix()\n",
    "B = mpo1.get_product(mpo2).get_full_matrix()\n",
    "assert torch.sum(torch.abs((A1 @ A2) - B)) < 1e-12"
   ]
  },
  {
   "cell_type": "markdown",
   "id": "73da411b",
   "metadata": {},
   "source": [
    "# Генерация случайной MPO"
   ]
  },
  {
   "cell_type": "code",
   "execution_count": 6,
   "id": "fba4ae11",
   "metadata": {},
   "outputs": [],
   "source": [
    "mpo = MPO(info)\n",
    "\n",
    "mpo.random_full(N, 2)"
   ]
  },
  {
   "cell_type": "code",
   "execution_count": 7,
   "id": "3f400bed",
   "metadata": {},
   "outputs": [
    {
     "data": {
      "text/plain": [
       "tensor(254.2428+13.5278j, dtype=torch.complex128)"
      ]
     },
     "execution_count": 7,
     "metadata": {},
     "output_type": "execute_result"
    }
   ],
   "source": [
    "mpo.get_trace()"
   ]
  },
  {
   "cell_type": "code",
   "execution_count": 8,
   "id": "439e98db",
   "metadata": {},
   "outputs": [
    {
     "data": {
      "text/plain": [
       "[1, 2, 2, 2, 2, 1]"
      ]
     },
     "execution_count": 8,
     "metadata": {},
     "output_type": "execute_result"
    }
   ],
   "source": [
    "mpo.r"
   ]
  },
  {
   "cell_type": "code",
   "execution_count": 9,
   "id": "4bb403e0",
   "metadata": {},
   "outputs": [
    {
     "name": "stdout",
     "output_type": "stream",
     "text": [
      "tensor(254.2428+13.5278j, dtype=torch.complex128)\n"
     ]
    }
   ],
   "source": [
    "A = mpo.get_full_matrix()\n",
    "print(A.trace())"
   ]
  },
  {
   "cell_type": "code",
   "execution_count": 10,
   "id": "0edf55be",
   "metadata": {},
   "outputs": [],
   "source": [
    "mpo_T = mpo.transpose()\n",
    "AT = mpo_T.get_full_matrix()\n",
    "\n",
    "assert torch.sum(torch.abs(A.T - AT)) < 1e-12"
   ]
  },
  {
   "cell_type": "markdown",
   "id": "180bebb0",
   "metadata": {},
   "source": [
    "# Генерация случайной положительно определенной rho"
   ]
  },
  {
   "cell_type": "code",
   "execution_count": 11,
   "id": "94993bd0",
   "metadata": {},
   "outputs": [],
   "source": [
    "mpo = MPO(info)\n",
    "mpo.random_rho(N, 2)"
   ]
  },
  {
   "cell_type": "code",
   "execution_count": 12,
   "id": "62280c82",
   "metadata": {},
   "outputs": [
    {
     "data": {
      "text/plain": [
       "tensor(1.0000-5.1082e-18j, dtype=torch.complex128)"
      ]
     },
     "execution_count": 12,
     "metadata": {},
     "output_type": "execute_result"
    }
   ],
   "source": [
    "mpo.get_trace()"
   ]
  },
  {
   "cell_type": "code",
   "execution_count": 13,
   "id": "e1f9dbff",
   "metadata": {},
   "outputs": [
    {
     "data": {
      "text/plain": [
       "[1, 16, 16, 16, 16, 1]"
      ]
     },
     "execution_count": 13,
     "metadata": {},
     "output_type": "execute_result"
    }
   ],
   "source": [
    "mpo.r"
   ]
  },
  {
   "cell_type": "code",
   "execution_count": 14,
   "id": "0ac695f2",
   "metadata": {},
   "outputs": [],
   "source": [
    "mpo1 = MPO(info)\n",
    "mpo1.random_rho(N, 2)\n",
    "mpo2 = MPO(info)\n",
    "mpo2.random_rho(N, 2)\n",
    "A1 = mpo1.get_full_matrix()\n",
    "A2 = mpo2.get_full_matrix()\n",
    "B = mpo1.get_product(mpo2).get_full_matrix()\n",
    "assert torch.sum(torch.abs((A1 @ A2) - B)) < 1e-12"
   ]
  },
  {
   "cell_type": "code",
   "execution_count": null,
   "id": "59948e78",
   "metadata": {},
   "outputs": [],
   "source": []
  },
  {
   "cell_type": "code",
   "execution_count": null,
   "id": "f99c20df",
   "metadata": {},
   "outputs": [],
   "source": []
  }
 ],
 "metadata": {
  "kernelspec": {
   "display_name": "Python 3 (ipykernel)",
   "language": "python",
   "name": "python3"
  },
  "language_info": {
   "codemirror_mode": {
    "name": "ipython",
    "version": 3
   },
   "file_extension": ".py",
   "mimetype": "text/x-python",
   "name": "python",
   "nbconvert_exporter": "python",
   "pygments_lexer": "ipython3",
   "version": "3.9.5"
  }
 },
 "nbformat": 4,
 "nbformat_minor": 5
}
