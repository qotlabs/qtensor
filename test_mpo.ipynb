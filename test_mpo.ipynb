{
 "cells": [
  {
   "cell_type": "code",
   "execution_count": 1,
   "id": "0d2f3e78",
   "metadata": {},
   "outputs": [
    {
     "name": "stdout",
     "output_type": "stream",
     "text": [
      "[1, 1, 2, 2, 2, 1]\n",
      "9.704881360388806e-33\n"
     ]
    }
   ],
   "source": [
    "from qtensor import Info, MPS, Gates, CircuitCX\n",
    "import torch\n",
    "import numpy as np\n",
    "import matplotlib.pyplot as plt\n",
    "import time\n",
    "\n",
    "N = 5\n",
    "\n",
    "info = Info()\n",
    "mps = MPS(info)\n",
    "mps.all_zeros_state(N)\n",
    "\n",
    "gates = Gates(info)\n",
    "\n",
    "gates_stochastic = [gates.Rn_random() for i in range(N)]\n",
    "\n",
    "for i in range(N):\n",
    "    mps.one_qubit_gate(gates_stochastic[i], i)\n",
    "    \n",
    "mps.two_qubit_gate(gates.CX(), 1)\n",
    "mps.two_qubit_gate(gates.CX(), 2)\n",
    "mps.two_qubit_gate(gates.CX(), 3)\n",
    "\n",
    "u = gates.Rn_random()\n",
    "\n",
    "rho_0 = mps.get_density_matrix(4)\n",
    "\n",
    "rho_1 = np.dot(np.array(u, dtype=complex), np.dot(np.array(rho_0, dtype=complex),\n",
    "                                                  np.array(u, dtype=complex).T.conjugate()))\n",
    "\n",
    "mps.one_qubit_gate(u, 4)\n",
    "rho_2 = np.array(mps.get_density_matrix(4))\n",
    "\n",
    "print(mps.r)\n",
    "print(np.sum(np.abs(rho_1 - rho_2) ** 2))"
   ]
  },
  {
   "cell_type": "code",
   "execution_count": 2,
   "id": "dc3b83d5",
   "metadata": {},
   "outputs": [],
   "source": [
    "class MPO(object):\n",
    "    def __init__(self, info):\n",
    "        self.tt_cores = []\n",
    "        self.info = info\n",
    "        self.N = None\n",
    "        self.r = []\n",
    "        self.phys_ind = []\n",
    "\n",
    "    def all_zeros_state(self, n):\n",
    "        self.tt_cores = []\n",
    "        self.r = [1]\n",
    "        self.phys_ind = []\n",
    "        for i in range(n):\n",
    "            self.tt_cores.append(torch.reshape(torch.tensor([[1, 0], [0, 0]], dtype=self.info.data_type, device=self.info.device),\n",
    "                                               (1, 2, 2, 1)))\n",
    "            self.r.append(1)\n",
    "            self.phys_ind.append((2, 2))\n",
    "        self.N = n\n",
    "        \n",
    "    def get_element(self, list_of_index_1, list_of_index_2):\n",
    "        matrix_list = [self.tt_cores[i][:, index1, index2, :] for i, (index1, index2) in enumerate(zip(list_of_index_1, list_of_index_2))]\n",
    "        element = matrix_list[0]\n",
    "        for matrix in matrix_list[1:]:\n",
    "            element = torch.tensordot(element, matrix, dims=([1], [0]))\n",
    "        return element[0][0]\n",
    "    \n",
    "    def construct(self, mps):\n",
    "        self.N = mps.N\n",
    "        \n",
    "        self.r = []\n",
    "        for i in range(self.N + 1):\n",
    "            self.r.append(mps.r[i] * mps.r[i])\n",
    "        self.phys_ind = []\n",
    "        for i in range(self.N):\n",
    "            self.phys_ind.append((mps.phys_ind[i], mps.phys_ind[i]))\n",
    "        \n",
    "        self.tt_cores = []\n",
    "        for i in range(self.N):\n",
    "            core1 = torch.conj(mps.tt_cores[i])\n",
    "            core2 = mps.tt_cores[i]\n",
    "            self.tt_cores.append(torch.reshape(torch.kron(core1, core2),\n",
    "                                               (self.r[i], self.phys_ind[i][0], self.phys_ind[i][1], self.r[i + 1])))\n",
    "            \n",
    "    def diagonal(self):\n",
    "        mps = MPS(self.info)\n",
    "        mps.N = self.N\n",
    "        mps.r = self.r\n",
    "        mps.phys_ind = []\n",
    "        for i in range(self.N):\n",
    "            assert self.phys_ind[i][0] == self.phys_ind[i][1]\n",
    "            mps.phys_ind.append(self.phys_ind[i][0])\n",
    "        mps.tt_cores = []\n",
    "        for i in range(self.N):\n",
    "            mps.tt_cores.append(torch.zeros((mps.r[i], mps.phys_ind[i], mps.r[i+1]), dtype=self.info.data_type, device=self.info.device))\n",
    "            for j in range(mps.phys_ind[i]):\n",
    "                mps.tt_cores[i][:, j, :] = self.tt_cores[i][:, j, j, :]\n",
    "        return mps\n",
    "    \n",
    "    def trace(self):\n",
    "        return self.diagonal().get_sum()"
   ]
  },
  {
   "cell_type": "code",
   "execution_count": 3,
   "id": "23f50578",
   "metadata": {},
   "outputs": [
    {
     "name": "stdout",
     "output_type": "stream",
     "text": [
      "tensor(0.+0.j, dtype=torch.complex128)\n"
     ]
    }
   ],
   "source": [
    "mpo = MPO(info)\n",
    "\n",
    "mpo.all_zeros_state(N)\n",
    "\n",
    "print(mpo.get_element([0, 0, 0, 0, 1], [0, 0, 0, 0, 0]))"
   ]
  },
  {
   "cell_type": "code",
   "execution_count": 4,
   "id": "a0eac2c1",
   "metadata": {},
   "outputs": [],
   "source": [
    "mpo.construct(mps)"
   ]
  },
  {
   "cell_type": "code",
   "execution_count": 5,
   "id": "54206aa5",
   "metadata": {},
   "outputs": [],
   "source": [
    "indices = []\n",
    "\n",
    "def gen(pref):\n",
    "    if len(pref) == N:\n",
    "        global indices\n",
    "        indices.append(pref)\n",
    "        return\n",
    "    for i in range(2):\n",
    "        gen(pref + [i])\n",
    "        \n",
    "gen([])\n",
    "for i1 in indices:\n",
    "    for i2 in indices:\n",
    "        val1 = mps.get_element(i1)\n",
    "        val2 = mps.get_element(i2)\n",
    "        corr = torch.conj(val1) * val2\n",
    "        our = mpo.get_element(i1, i2)\n",
    "        diff = torch.abs(corr - our)\n",
    "        assert diff.item() < 1e-12"
   ]
  },
  {
   "cell_type": "code",
   "execution_count": 6,
   "id": "d1f11780",
   "metadata": {},
   "outputs": [
    {
     "data": {
      "text/plain": [
       "tensor(1.0000+0.j, dtype=torch.complex128)"
      ]
     },
     "execution_count": 6,
     "metadata": {},
     "output_type": "execute_result"
    }
   ],
   "source": [
    "mpo.trace()"
   ]
  },
  {
   "cell_type": "code",
   "execution_count": null,
   "id": "b8897393",
   "metadata": {},
   "outputs": [],
   "source": []
  }
 ],
 "metadata": {
  "kernelspec": {
   "display_name": "Python 3 (ipykernel)",
   "language": "python",
   "name": "python3"
  },
  "language_info": {
   "codemirror_mode": {
    "name": "ipython",
    "version": 3
   },
   "file_extension": ".py",
   "mimetype": "text/x-python",
   "name": "python",
   "nbconvert_exporter": "python",
   "pygments_lexer": "ipython3",
   "version": "3.9.5"
  }
 },
 "nbformat": 4,
 "nbformat_minor": 5
}
